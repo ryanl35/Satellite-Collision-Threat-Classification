{
  "nbformat": 4,
  "nbformat_minor": 0,
  "metadata": {
    "kernelspec": {
      "display_name": "Python 3",
      "language": "python",
      "name": "python3"
    },
    "language_info": {
      "codemirror_mode": {
        "name": "ipython",
        "version": 3
      },
      "file_extension": ".py",
      "mimetype": "text/x-python",
      "name": "python",
      "nbconvert_exporter": "python",
      "pygments_lexer": "ipython3",
      "version": "3.7.1"
    },
    "colab": {
      "name": "DS3000_FP4_Section1_Group12.ipynb",
      "provenance": [],
      "collapsed_sections": []
    }
  },
  "cells": [
    {
      "cell_type": "markdown",
      "metadata": {
        "id": "tyy07_HgdlYH",
        "colab_type": "text"
      },
      "source": [
        "<center> <h2> DS 3000 - Fall 2019</h2> </center>\n",
        "<center> <h3> DS Report </h3> </center>\n"
      ]
    },
    {
      "cell_type": "markdown",
      "metadata": {
        "id": "_u7_nc9vdlYL",
        "colab_type": "text"
      },
      "source": [
        "<center> <h1>Satellite Collision Threat Classification</h1> </center>\n",
        "<center><h4>Tamsin Edwards Lambourne, Vincent Johnson, Ryan Liang</h4></center>\n"
      ]
    },
    {
      "cell_type": "markdown",
      "metadata": {
        "id": "ze1IfdUxdlYR",
        "colab_type": "text"
      },
      "source": [
        "<hr style=\"height:2px; border:none; color:black; background-color:black;\">"
      ]
    },
    {
      "cell_type": "markdown",
      "metadata": {
        "id": "xnkGjSdhdlYU",
        "colab_type": "text"
      },
      "source": [
        "#### Executive Summary:\n",
        "\n",
        "There are thousands of pieces of debris currently orbiting our planet. These include satellites from previous launches, natural debris such as asteroid dust, and particles from collisions. For this project, data on registered satellites orbiting the earth was acquired from the Union of Concerned Scientists. The data was cleaned so that only relevant columns were included in the analysis. The data was put through unsupervised machine learning to classify the satellites into five clusters. These clusters were analyzed to give each one a crowdedness ranking, based on the amount of surface area each satellite in the cluster could take up. In our analysis, we found that the cluster closest to the earth is the most crowded.\n",
        "\n"
      ]
    },
    {
      "cell_type": "markdown",
      "metadata": {
        "id": "3lU-n-8gdlYa",
        "colab_type": "text"
      },
      "source": [
        "<hr style=\"height:2px; border:none; color:black; background-color:black;\">"
      ]
    },
    {
      "cell_type": "markdown",
      "metadata": {
        "id": "y8hZOQT5dlYb",
        "colab_type": "text"
      },
      "source": [
        "## Outline\n",
        "1. <a href='#1'>INTRODUCTION</a>\n",
        "2. <a href='#2'>METHOD</a>\n",
        "3. <a href='#3'>RESULTS</a>\n",
        "4. <a href='#4'>DISCUSSION</a>"
      ]
    },
    {
      "cell_type": "markdown",
      "metadata": {
        "id": "3SaAbzV3dlYf",
        "colab_type": "text"
      },
      "source": [
        "<a id=\"1\"></a>\n",
        "<hr style=\"height:2px; border:none; color:black; background-color:black;\">"
      ]
    },
    {
      "cell_type": "markdown",
      "metadata": {
        "id": "pNPsMf3udlYi",
        "colab_type": "text"
      },
      "source": [
        "## 1. INTRODUCTION"
      ]
    },
    {
      "cell_type": "markdown",
      "metadata": {
        "id": "3rMVBeVAdlYl",
        "colab_type": "text"
      },
      "source": [
        "Over 2000 registered man-made satellites are currently orbiting the earth. Typically, when satellites are no longer used, there is no easy recovery system for them, and they end up continuing to occupy space in their orbit until it eventually decays, which can take up to a thousand years<sup>[1]</sup>. When satellites impact each other, or other space debris around, they create millions of tiny particles that are harder to track and, while small in mass, carry massive amounts of momentum and can severely damage other satellites or rockets as they fly away from the collision. These small pieces can hit other satellites, either man-made or natural, and lead to yet more collisions and space debris. \n",
        "\n",
        "The image below shows a snapshot of the locations of registered active satellites orbiting the earth at this time<sup>[2]</sup>. Some satellites are not listed, such as the RANGE-B satellite, a partner to the RANGE-A<sup>[3]</sup>, meaning that there are even more objects orbiting the earth and potentially causing collisions. Additionally, not all satellites can complete their missions after launch, and without communication essentially become extra debris floating through their orbits without providing useful information. \n",
        "\n",
        "![alt text](https://raw.githubusercontent.com/t-edw/ds3000-fp/master/stuff%20in%20space.PNG)\n",
        "\n",
        "Our project aims to answer the questions of where the most populated orbits for satellites are, and classify the likelihood of collisions when new satellites are launched based on the anticipated orbit radius. The data on the orbital radii of satellites comes from the Union of Concerned Scientists USA<sup>[4]</sup>, and includes information such as the apogee distance, perigee distance, name, orbit type, and country of origin for over 2000 registered satellites in active use from launches up to March 31, 2019.\n",
        "\n",
        "\n",
        "<b>References</b><br />\n",
        "<sup>[1]</sup> <a href=\"https://www.spaceacademy.net.au/watch/debris/orblife.htm\">Orbital Lifetimes</a><br />\n",
        "<sup>[2]</sup> <a href=\"http://stuffin.space\">Stuff In Space</a><br />\n",
        "<sup>[3]</sup><a href=\"https://ae.gatech.edu/news/2018/12/its-space-georgia-techs-range-cubesat-launched-december-3\">It's in Space! Georgia Tech's R.A.N.G.E Cubesat Launched on December 3</a><br />\n",
        "<sup>[4]</sup><a href=\"https://www.ucsusa.org/resources/satellite-database\">UCS Satellite Database</a>\n"
      ]
    },
    {
      "cell_type": "markdown",
      "metadata": {
        "id": "79ZMSPQDdlYp",
        "colab_type": "text"
      },
      "source": [
        "<a id=\"2\"></a>\n",
        "<hr style=\"height:2px; border:none; color:black; background-color:black;\">"
      ]
    },
    {
      "cell_type": "markdown",
      "metadata": {
        "id": "7c7ypgUYdlYs",
        "colab_type": "text"
      },
      "source": [
        "## 2. METHOD"
      ]
    },
    {
      "cell_type": "markdown",
      "metadata": {
        "id": "YM_D26-NdlYt",
        "colab_type": "text"
      },
      "source": [
        "### 2.1. Data Acquisition\n",
        "\n",
        "The original dataset was downloaded from the UCS website, linked above, the csv file was stored on GitHub for easy access. The first five rows of the dataframe read from the .csv file are shown below.\n",
        "\n",
        "The raw dataset contains many more columns and pieces of information than are necessary for our purposes, so it was necessary to clean the data and extract the more meaningful columns before beginning analysis.\n",
        "\n"
      ]
    },
    {
      "cell_type": "code",
      "metadata": {
        "id": "XDgnVUJ5f-Yj",
        "colab_type": "code",
        "outputId": "859f979d-a327-4810-a1ab-89b7d28cbfe3",
        "colab": {
          "base_uri": "https://localhost:8080/",
          "height": 532
        }
      },
      "source": [
        "import pandas as pd\n",
        "\n",
        "# read the csv file\n",
        "sats = pd.read_csv(\"https://raw.githubusercontent.com/t-edw/ds3000-fp/master/Satellite_Database_4_1_2019.csv\")\n",
        "sats.head()"
      ],
      "execution_count": 0,
      "outputs": [
        {
          "output_type": "execute_result",
          "data": {
            "text/html": [
              "<div>\n",
              "<style scoped>\n",
              "    .dataframe tbody tr th:only-of-type {\n",
              "        vertical-align: middle;\n",
              "    }\n",
              "\n",
              "    .dataframe tbody tr th {\n",
              "        vertical-align: top;\n",
              "    }\n",
              "\n",
              "    .dataframe thead th {\n",
              "        text-align: right;\n",
              "    }\n",
              "</style>\n",
              "<table border=\"1\" class=\"dataframe\">\n",
              "  <thead>\n",
              "    <tr style=\"text-align: right;\">\n",
              "      <th></th>\n",
              "      <th>Name of Satellite, Alternate Names</th>\n",
              "      <th>Country/Org of UN Registry</th>\n",
              "      <th>Country of Operator/Owner</th>\n",
              "      <th>Operator/Owner</th>\n",
              "      <th>Users</th>\n",
              "      <th>Purpose</th>\n",
              "      <th>Detailed Purpose</th>\n",
              "      <th>Class of Orbit</th>\n",
              "      <th>Type of Orbit</th>\n",
              "      <th>Longitude of GEO (degrees)</th>\n",
              "      <th>Perigee (km)</th>\n",
              "      <th>Apogee (km)</th>\n",
              "      <th>Eccentricity</th>\n",
              "      <th>Inclination (degrees)</th>\n",
              "      <th>Period (minutes)</th>\n",
              "      <th>Launch Mass (kg.)</th>\n",
              "      <th>Dry Mass (kg.)</th>\n",
              "      <th>Power (watts)</th>\n",
              "      <th>Date of Launch</th>\n",
              "      <th>Expected Lifetime (yrs.)</th>\n",
              "      <th>Contractor</th>\n",
              "      <th>Country of Contractor</th>\n",
              "      <th>Launch Site</th>\n",
              "      <th>Launch Vehicle</th>\n",
              "      <th>COSPAR Number</th>\n",
              "      <th>NORAD Number</th>\n",
              "      <th>Comments</th>\n",
              "      <th>Unnamed: 27</th>\n",
              "      <th>Source Used for Orbital Data</th>\n",
              "      <th>Source</th>\n",
              "      <th>Source.1</th>\n",
              "      <th>Source.2</th>\n",
              "      <th>Source.3</th>\n",
              "      <th>Source.4</th>\n",
              "      <th>Source.5</th>\n",
              "      <th>Unnamed: 35</th>\n",
              "      <th>Unnamed: 36</th>\n",
              "      <th>Unnamed: 37</th>\n",
              "      <th>Unnamed: 38</th>\n",
              "      <th>Unnamed: 39</th>\n",
              "      <th>Unnamed: 40</th>\n",
              "      <th>Unnamed: 41</th>\n",
              "      <th>Unnamed: 42</th>\n",
              "      <th>Unnamed: 43</th>\n",
              "      <th>Unnamed: 44</th>\n",
              "      <th>Unnamed: 45</th>\n",
              "      <th>Unnamed: 46</th>\n",
              "      <th>Unnamed: 47</th>\n",
              "      <th>Unnamed: 48</th>\n",
              "      <th>Unnamed: 49</th>\n",
              "      <th>Unnamed: 50</th>\n",
              "      <th>Unnamed: 51</th>\n",
              "      <th>Unnamed: 52</th>\n",
              "      <th>Unnamed: 53</th>\n",
              "      <th>Unnamed: 54</th>\n",
              "      <th>Unnamed: 55</th>\n",
              "      <th>Unnamed: 56</th>\n",
              "      <th>Unnamed: 57</th>\n",
              "      <th>Unnamed: 58</th>\n",
              "      <th>Unnamed: 59</th>\n",
              "      <th>Unnamed: 60</th>\n",
              "      <th>Unnamed: 61</th>\n",
              "      <th>Unnamed: 62</th>\n",
              "      <th>Unnamed: 63</th>\n",
              "      <th>Unnamed: 64</th>\n",
              "    </tr>\n",
              "  </thead>\n",
              "  <tbody>\n",
              "    <tr>\n",
              "      <th>0</th>\n",
              "      <td>3Cat-1</td>\n",
              "      <td>NR (11/18)</td>\n",
              "      <td>Spain</td>\n",
              "      <td>Universitat Politècnica de Catalunya</td>\n",
              "      <td>Civil</td>\n",
              "      <td>Technology Development</td>\n",
              "      <td>NaN</td>\n",
              "      <td>LEO</td>\n",
              "      <td>NaN</td>\n",
              "      <td>0.0</td>\n",
              "      <td>476.0</td>\n",
              "      <td>500.0</td>\n",
              "      <td>0.001750</td>\n",
              "      <td>97.40</td>\n",
              "      <td>95</td>\n",
              "      <td>4</td>\n",
              "      <td>NaN</td>\n",
              "      <td>NaN</td>\n",
              "      <td>11/29/2018</td>\n",
              "      <td>NaN</td>\n",
              "      <td>Universitat Politècnica de Catalunya</td>\n",
              "      <td>Spain</td>\n",
              "      <td>Satish Dhawan Space Centre</td>\n",
              "      <td>PSLV</td>\n",
              "      <td>2018-096K</td>\n",
              "      <td>43728</td>\n",
              "      <td>Student built.</td>\n",
              "      <td>NaN</td>\n",
              "      <td>Estimated</td>\n",
              "      <td>https://spaceflightnow.com/2018/11/29/indian-r...</td>\n",
              "      <td>NaN</td>\n",
              "      <td>NaN</td>\n",
              "      <td>NaN</td>\n",
              "      <td>NaN</td>\n",
              "      <td>NaN</td>\n",
              "      <td>NaN</td>\n",
              "      <td>NaN</td>\n",
              "      <td>NaN</td>\n",
              "      <td>NaN</td>\n",
              "      <td>NaN</td>\n",
              "      <td>NaN</td>\n",
              "      <td>NaN</td>\n",
              "      <td>NaN</td>\n",
              "      <td>NaN</td>\n",
              "      <td>NaN</td>\n",
              "      <td>NaN</td>\n",
              "      <td>NaN</td>\n",
              "      <td>NaN</td>\n",
              "      <td>NaN</td>\n",
              "      <td>NaN</td>\n",
              "      <td>NaN</td>\n",
              "      <td>NaN</td>\n",
              "      <td>NaN</td>\n",
              "      <td>NaN</td>\n",
              "      <td>NaN</td>\n",
              "      <td>NaN</td>\n",
              "      <td>NaN</td>\n",
              "      <td>NaN</td>\n",
              "      <td>NaN</td>\n",
              "      <td>NaN</td>\n",
              "      <td>NaN</td>\n",
              "      <td>NaN</td>\n",
              "      <td>NaN</td>\n",
              "      <td>NaN</td>\n",
              "      <td>NaN</td>\n",
              "    </tr>\n",
              "    <tr>\n",
              "      <th>1</th>\n",
              "      <td>Aalto-1</td>\n",
              "      <td>Finland</td>\n",
              "      <td>Finland</td>\n",
              "      <td>University of Aalto</td>\n",
              "      <td>Civil</td>\n",
              "      <td>Technology Development</td>\n",
              "      <td>NaN</td>\n",
              "      <td>LEO</td>\n",
              "      <td>NaN</td>\n",
              "      <td>0.0</td>\n",
              "      <td>497.0</td>\n",
              "      <td>517.0</td>\n",
              "      <td>0.001450</td>\n",
              "      <td>97.45</td>\n",
              "      <td>94.7</td>\n",
              "      <td>5</td>\n",
              "      <td>NaN</td>\n",
              "      <td>4.5</td>\n",
              "      <td>6/23/2017</td>\n",
              "      <td>2.0</td>\n",
              "      <td>University of Aalto</td>\n",
              "      <td>Finland</td>\n",
              "      <td>Satish Dhawan Space Centre</td>\n",
              "      <td>PSLV</td>\n",
              "      <td>2017-036L</td>\n",
              "      <td>42775</td>\n",
              "      <td>Technology development and education.</td>\n",
              "      <td>NaN</td>\n",
              "      <td>JMSatcat/10_17</td>\n",
              "      <td>https://directory.eoportal.org/web/eoportal/sa...</td>\n",
              "      <td>http://www.planet4589.org/space/log/satcat.txt</td>\n",
              "      <td>NaN</td>\n",
              "      <td>NaN</td>\n",
              "      <td>NaN</td>\n",
              "      <td>NaN</td>\n",
              "      <td>NaN</td>\n",
              "      <td>NaN</td>\n",
              "      <td>NaN</td>\n",
              "      <td>NaN</td>\n",
              "      <td>NaN</td>\n",
              "      <td>NaN</td>\n",
              "      <td>NaN</td>\n",
              "      <td>NaN</td>\n",
              "      <td>NaN</td>\n",
              "      <td>NaN</td>\n",
              "      <td>NaN</td>\n",
              "      <td>NaN</td>\n",
              "      <td>NaN</td>\n",
              "      <td>NaN</td>\n",
              "      <td>NaN</td>\n",
              "      <td>NaN</td>\n",
              "      <td>NaN</td>\n",
              "      <td>NaN</td>\n",
              "      <td>NaN</td>\n",
              "      <td>NaN</td>\n",
              "      <td>NaN</td>\n",
              "      <td>NaN</td>\n",
              "      <td>NaN</td>\n",
              "      <td>NaN</td>\n",
              "      <td>NaN</td>\n",
              "      <td>NaN</td>\n",
              "      <td>NaN</td>\n",
              "      <td>NaN</td>\n",
              "      <td>NaN</td>\n",
              "      <td>NaN</td>\n",
              "    </tr>\n",
              "    <tr>\n",
              "      <th>2</th>\n",
              "      <td>AAUSat-4</td>\n",
              "      <td>Denmark</td>\n",
              "      <td>Denmark</td>\n",
              "      <td>University of Aalborg</td>\n",
              "      <td>Civil</td>\n",
              "      <td>Earth Observation</td>\n",
              "      <td>Automatic Identification System (AIS)</td>\n",
              "      <td>LEO</td>\n",
              "      <td>Sun-Synchronous</td>\n",
              "      <td>0.0</td>\n",
              "      <td>442.0</td>\n",
              "      <td>687.0</td>\n",
              "      <td>0.017700</td>\n",
              "      <td>98.20</td>\n",
              "      <td>95.9</td>\n",
              "      <td>1</td>\n",
              "      <td>NaN</td>\n",
              "      <td>NaN</td>\n",
              "      <td>4/25/2016</td>\n",
              "      <td>NaN</td>\n",
              "      <td>University of Aalborg</td>\n",
              "      <td>Denmark</td>\n",
              "      <td>Guiana Space Center</td>\n",
              "      <td>Soyuz 2.1a</td>\n",
              "      <td>2016-025E</td>\n",
              "      <td>41460</td>\n",
              "      <td>Carries AIS system.</td>\n",
              "      <td>NaN</td>\n",
              "      <td>Space50</td>\n",
              "      <td>http://spaceflightnow.com/2016/04/26/soyuz-bla...</td>\n",
              "      <td>http://space50.org/objekt.php?mot=2016-025E&amp;ja...</td>\n",
              "      <td>NaN</td>\n",
              "      <td>NaN</td>\n",
              "      <td>NaN</td>\n",
              "      <td>NaN</td>\n",
              "      <td>NaN</td>\n",
              "      <td>NaN</td>\n",
              "      <td>NaN</td>\n",
              "      <td>NaN</td>\n",
              "      <td>NaN</td>\n",
              "      <td>NaN</td>\n",
              "      <td>NaN</td>\n",
              "      <td>NaN</td>\n",
              "      <td>NaN</td>\n",
              "      <td>NaN</td>\n",
              "      <td>NaN</td>\n",
              "      <td>NaN</td>\n",
              "      <td>NaN</td>\n",
              "      <td>NaN</td>\n",
              "      <td>NaN</td>\n",
              "      <td>NaN</td>\n",
              "      <td>NaN</td>\n",
              "      <td>NaN</td>\n",
              "      <td>NaN</td>\n",
              "      <td>NaN</td>\n",
              "      <td>NaN</td>\n",
              "      <td>NaN</td>\n",
              "      <td>NaN</td>\n",
              "      <td>NaN</td>\n",
              "      <td>NaN</td>\n",
              "      <td>NaN</td>\n",
              "      <td>NaN</td>\n",
              "      <td>NaN</td>\n",
              "      <td>NaN</td>\n",
              "      <td>NaN</td>\n",
              "    </tr>\n",
              "    <tr>\n",
              "      <th>3</th>\n",
              "      <td>ABS-2 (Koreasat-8, ST-3)</td>\n",
              "      <td>NR</td>\n",
              "      <td>Multinational</td>\n",
              "      <td>Asia Broadcast Satellite Ltd.</td>\n",
              "      <td>Commercial</td>\n",
              "      <td>Communications</td>\n",
              "      <td>NaN</td>\n",
              "      <td>GEO</td>\n",
              "      <td>NaN</td>\n",
              "      <td>75.0</td>\n",
              "      <td>35778.0</td>\n",
              "      <td>35793.0</td>\n",
              "      <td>0.000178</td>\n",
              "      <td>0.08</td>\n",
              "      <td>1436.03</td>\n",
              "      <td>6,330</td>\n",
              "      <td>NaN</td>\n",
              "      <td>16,000</td>\n",
              "      <td>2/6/2014</td>\n",
              "      <td>15.0</td>\n",
              "      <td>Space Systems/Loral</td>\n",
              "      <td>USA</td>\n",
              "      <td>Guiana Space Center</td>\n",
              "      <td>Ariane 5 ECA</td>\n",
              "      <td>2014-006A</td>\n",
              "      <td>39508</td>\n",
              "      <td>32 C-band, 51 Ku-band, and 6 Ka-band transpond...</td>\n",
              "      <td>NaN</td>\n",
              "      <td>ZARYA</td>\n",
              "      <td>http://www.absatellite.net/satellite-fleet/?sa...</td>\n",
              "      <td>http://www.zarya.info/Diaries/Launches/Launche...</td>\n",
              "      <td>http://www.absatellite.net/2010/10/13/asia-bro...</td>\n",
              "      <td>http://www.spacenews.com/article/satellite-tel...</td>\n",
              "      <td>NaN</td>\n",
              "      <td>NaN</td>\n",
              "      <td>NaN</td>\n",
              "      <td>NaN</td>\n",
              "      <td>NaN</td>\n",
              "      <td>NaN</td>\n",
              "      <td>NaN</td>\n",
              "      <td>NaN</td>\n",
              "      <td>NaN</td>\n",
              "      <td>NaN</td>\n",
              "      <td>NaN</td>\n",
              "      <td>NaN</td>\n",
              "      <td>NaN</td>\n",
              "      <td>NaN</td>\n",
              "      <td>NaN</td>\n",
              "      <td>NaN</td>\n",
              "      <td>NaN</td>\n",
              "      <td>NaN</td>\n",
              "      <td>NaN</td>\n",
              "      <td>NaN</td>\n",
              "      <td>NaN</td>\n",
              "      <td>NaN</td>\n",
              "      <td>NaN</td>\n",
              "      <td>NaN</td>\n",
              "      <td>NaN</td>\n",
              "      <td>NaN</td>\n",
              "      <td>NaN</td>\n",
              "      <td>NaN</td>\n",
              "      <td>NaN</td>\n",
              "      <td>NaN</td>\n",
              "      <td>NaN</td>\n",
              "      <td>NaN</td>\n",
              "    </tr>\n",
              "    <tr>\n",
              "      <th>4</th>\n",
              "      <td>ABS-2A</td>\n",
              "      <td>NR</td>\n",
              "      <td>Multinational</td>\n",
              "      <td>Asia Broadcast Satellite Ltd.</td>\n",
              "      <td>Commercial</td>\n",
              "      <td>Communications</td>\n",
              "      <td>NaN</td>\n",
              "      <td>GEO</td>\n",
              "      <td>NaN</td>\n",
              "      <td>-75.0</td>\n",
              "      <td>35700.0</td>\n",
              "      <td>35700.0</td>\n",
              "      <td>0.000000</td>\n",
              "      <td>0.00</td>\n",
              "      <td>1436.1</td>\n",
              "      <td>1,800</td>\n",
              "      <td>NaN</td>\n",
              "      <td>NaN</td>\n",
              "      <td>6/15/2016</td>\n",
              "      <td>15.0</td>\n",
              "      <td>Boeing Satellite Systems</td>\n",
              "      <td>USA</td>\n",
              "      <td>Cape Canaveral</td>\n",
              "      <td>Falcon 9</td>\n",
              "      <td>2016-038A</td>\n",
              "      <td>41588</td>\n",
              "      <td>NaN</td>\n",
              "      <td>NaN</td>\n",
              "      <td>Estimated</td>\n",
              "      <td>NaN</td>\n",
              "      <td>NaN</td>\n",
              "      <td>NaN</td>\n",
              "      <td>NaN</td>\n",
              "      <td>NaN</td>\n",
              "      <td>NaN</td>\n",
              "      <td>NaN</td>\n",
              "      <td>NaN</td>\n",
              "      <td>NaN</td>\n",
              "      <td>NaN</td>\n",
              "      <td>NaN</td>\n",
              "      <td>NaN</td>\n",
              "      <td>NaN</td>\n",
              "      <td>NaN</td>\n",
              "      <td>NaN</td>\n",
              "      <td>NaN</td>\n",
              "      <td>NaN</td>\n",
              "      <td>NaN</td>\n",
              "      <td>NaN</td>\n",
              "      <td>NaN</td>\n",
              "      <td>NaN</td>\n",
              "      <td>NaN</td>\n",
              "      <td>NaN</td>\n",
              "      <td>NaN</td>\n",
              "      <td>NaN</td>\n",
              "      <td>NaN</td>\n",
              "      <td>NaN</td>\n",
              "      <td>NaN</td>\n",
              "      <td>NaN</td>\n",
              "      <td>NaN</td>\n",
              "      <td>NaN</td>\n",
              "      <td>NaN</td>\n",
              "      <td>NaN</td>\n",
              "      <td>NaN</td>\n",
              "      <td>NaN</td>\n",
              "      <td>NaN</td>\n",
              "    </tr>\n",
              "  </tbody>\n",
              "</table>\n",
              "</div>"
            ],
            "text/plain": [
              "  Name of Satellite, Alternate Names  ... Unnamed: 64\n",
              "0                             3Cat-1  ...         NaN\n",
              "1                           Aalto-1   ...         NaN\n",
              "2                           AAUSat-4  ...         NaN\n",
              "3           ABS-2 (Koreasat-8, ST-3)  ...         NaN\n",
              "4                             ABS-2A  ...         NaN\n",
              "\n",
              "[5 rows x 65 columns]"
            ]
          },
          "metadata": {
            "tags": []
          },
          "execution_count": 1
        }
      ]
    },
    {
      "cell_type": "markdown",
      "metadata": {
        "id": "F5cQ0FzHdlYv",
        "colab_type": "text"
      },
      "source": [
        "### 2.2. Variables\n",
        "\n",
        "The satellites were grouped into clusters based on average orbital radius, eccentricity, and inclination angle using unsupervised machine learning. Average orbital radius is how far the satellite is from Earth, eccentricity is how circular the orbit of the satellite is, and inclination is the angle from the equator the satellite orbits. Once these groups were established, the dependent variable of crowdedness of the cluster was established to be used in predicting the likelihood ranking of a satellite crash.\n"
      ]
    },
    {
      "cell_type": "markdown",
      "metadata": {
        "id": "xAGa5T44dlYw",
        "colab_type": "text"
      },
      "source": [
        "### 2.3. Data Analysis\n",
        "\n",
        "In our analysis, we are trying to find clusters of satellites based on each satellite's average distance from earth, orbit eccentricity, and inclination. Additionally, with the knowledge of the cluster sizes, we want to classify a newly launched satellite into a cluster and predict if it is more likely to crash into another satellite from the cluster size.\n",
        "\n",
        "We are using unsupervised machine learning because we don't have a target variable and we don't know what the clusters are beforehand, but this is classification into a cluster group.\n",
        "We are going to use k-means clustering and agglomerative clustering algorithms with 5 clusters and compare the results. We chose to use five clusters because there appeared to be five distinct clusters in the image of the satellite positions in the introduction and in the visualization of the features below. Clustering the satellites into groups based on their distance from Earth, eccentricity, and inclination seemed like the best approach for an unsupervised machine learning algorithm and for achieving our goal.\n",
        "Each cluster can then provide an associated \"collision risk\" based on the size of the cluster in space and the number of satellites in it."
      ]
    },
    {
      "cell_type": "markdown",
      "metadata": {
        "id": "5FaDNGoPdlYz",
        "colab_type": "text"
      },
      "source": [
        "<a id=\"3\"></a>\n",
        "<hr style=\"height:2px; border:none; color:black; background-color:black;\">"
      ]
    },
    {
      "cell_type": "markdown",
      "metadata": {
        "id": "39nk6pqadlY1",
        "colab_type": "text"
      },
      "source": [
        "## 3. RESULTS"
      ]
    },
    {
      "cell_type": "markdown",
      "metadata": {
        "id": "ez0h8hD4dlY4",
        "colab_type": "text"
      },
      "source": [
        "### 3.1. Data Wrangling\n",
        "\n",
        "The raw dataset includes many non-numeric columns that provide information that is not directly relevant to the analysis we are doing. Thus, before we can begin, we need to separate out only the useful columns, which in our case is the ones relating to orbital distance, inclination, and eccentricity. Names were also kept to identify satellites, but were not used in the analysis."
      ]
    },
    {
      "cell_type": "code",
      "metadata": {
        "id": "5w29QSyJEtPo",
        "colab_type": "code",
        "outputId": "65e00be6-59a0-41d7-ff23-70ec6038471d",
        "colab": {
          "base_uri": "https://localhost:8080/",
          "height": 203
        }
      },
      "source": [
        "# pick out the relevant columns and drop nan values\n",
        "sats = sats[[\"Name of Satellite, Alternate Names\", \"Inclination (degrees)\", \"Eccentricity\", \"Perigee (km)\", \"Apogee (km)\"]]\n",
        "sats.dropna(inplace=True)\n",
        "\n",
        "# calculate \"average\" orbit radius\n",
        "sats[\"Average Distance (km)\"] = (sats[\"Apogee (km)\"] + sats[\"Perigee (km)\"]) / 2\n",
        "\n",
        "\n",
        "features = sats[[\"Average Distance (km)\",\"Inclination (degrees)\", \"Eccentricity\"]]\n",
        "\n",
        "sats.head()"
      ],
      "execution_count": 0,
      "outputs": [
        {
          "output_type": "execute_result",
          "data": {
            "text/html": [
              "<div>\n",
              "<style scoped>\n",
              "    .dataframe tbody tr th:only-of-type {\n",
              "        vertical-align: middle;\n",
              "    }\n",
              "\n",
              "    .dataframe tbody tr th {\n",
              "        vertical-align: top;\n",
              "    }\n",
              "\n",
              "    .dataframe thead th {\n",
              "        text-align: right;\n",
              "    }\n",
              "</style>\n",
              "<table border=\"1\" class=\"dataframe\">\n",
              "  <thead>\n",
              "    <tr style=\"text-align: right;\">\n",
              "      <th></th>\n",
              "      <th>Name of Satellite, Alternate Names</th>\n",
              "      <th>Inclination (degrees)</th>\n",
              "      <th>Eccentricity</th>\n",
              "      <th>Perigee (km)</th>\n",
              "      <th>Apogee (km)</th>\n",
              "      <th>Average Distance (km)</th>\n",
              "    </tr>\n",
              "  </thead>\n",
              "  <tbody>\n",
              "    <tr>\n",
              "      <th>0</th>\n",
              "      <td>3Cat-1</td>\n",
              "      <td>97.40</td>\n",
              "      <td>0.001750</td>\n",
              "      <td>476.0</td>\n",
              "      <td>500.0</td>\n",
              "      <td>488.0</td>\n",
              "    </tr>\n",
              "    <tr>\n",
              "      <th>1</th>\n",
              "      <td>Aalto-1</td>\n",
              "      <td>97.45</td>\n",
              "      <td>0.001450</td>\n",
              "      <td>497.0</td>\n",
              "      <td>517.0</td>\n",
              "      <td>507.0</td>\n",
              "    </tr>\n",
              "    <tr>\n",
              "      <th>2</th>\n",
              "      <td>AAUSat-4</td>\n",
              "      <td>98.20</td>\n",
              "      <td>0.017700</td>\n",
              "      <td>442.0</td>\n",
              "      <td>687.0</td>\n",
              "      <td>564.5</td>\n",
              "    </tr>\n",
              "    <tr>\n",
              "      <th>3</th>\n",
              "      <td>ABS-2 (Koreasat-8, ST-3)</td>\n",
              "      <td>0.08</td>\n",
              "      <td>0.000178</td>\n",
              "      <td>35778.0</td>\n",
              "      <td>35793.0</td>\n",
              "      <td>35785.5</td>\n",
              "    </tr>\n",
              "    <tr>\n",
              "      <th>4</th>\n",
              "      <td>ABS-2A</td>\n",
              "      <td>0.00</td>\n",
              "      <td>0.000000</td>\n",
              "      <td>35700.0</td>\n",
              "      <td>35700.0</td>\n",
              "      <td>35700.0</td>\n",
              "    </tr>\n",
              "  </tbody>\n",
              "</table>\n",
              "</div>"
            ],
            "text/plain": [
              "  Name of Satellite, Alternate Names  ...  Average Distance (km)\n",
              "0                             3Cat-1  ...                  488.0\n",
              "1                           Aalto-1   ...                  507.0\n",
              "2                           AAUSat-4  ...                  564.5\n",
              "3           ABS-2 (Koreasat-8, ST-3)  ...                35785.5\n",
              "4                             ABS-2A  ...                35700.0\n",
              "\n",
              "[5 rows x 6 columns]"
            ]
          },
          "metadata": {
            "tags": []
          },
          "execution_count": 2
        }
      ]
    },
    {
      "cell_type": "markdown",
      "metadata": {
        "id": "q8lZHUyYyFxM",
        "colab_type": "text"
      },
      "source": [
        "Once the important columns were selected, the data was scaled using a MinMaxScaler. The performance of the scaled data would be compared to the unscaled data."
      ]
    },
    {
      "cell_type": "code",
      "metadata": {
        "id": "kUMSNw7Y1ikR",
        "colab_type": "code",
        "colab": {}
      },
      "source": [
        "from sklearn.preprocessing import MinMaxScaler\n",
        "\n",
        "#create the scaler\n",
        "scaler = MinMaxScaler()\n",
        "\n",
        "#fit the scaler to the training data(features only)\n",
        "scaler.fit(features)\n",
        "\n",
        "#transform features based on the scaler\n",
        "features_scaled = scaler.transform(features) "
      ],
      "execution_count": 0,
      "outputs": []
    },
    {
      "cell_type": "markdown",
      "metadata": {
        "id": "Ow27DtN4dlY6",
        "colab_type": "text"
      },
      "source": [
        "### 3.2. Data Exploration\n"
      ]
    },
    {
      "cell_type": "code",
      "metadata": {
        "id": "tFczs1gtHrVm",
        "colab_type": "code",
        "outputId": "21700bb5-90ec-4ebb-e354-6b2d1a85f1ab",
        "colab": {
          "base_uri": "https://localhost:8080/",
          "height": 369
        }
      },
      "source": [
        "import seaborn as sns\n",
        "import matplotlib.pyplot as plt\n",
        "\n",
        "#Scatterplots before clustering\n",
        "fig, axs = plt.subplots(ncols=3, figsize=(15, 5))\n",
        "\n",
        "ax1 = sns.scatterplot(x=\"Average Distance (km)\", y=\"Inclination (degrees)\", data=sats, ax=axs[0])\n",
        "ax2 = sns.scatterplot(x=\"Average Distance (km)\", y=\"Eccentricity\", data=sats, ax=axs[1])\n",
        "ax3 = sns.scatterplot(x=\"Eccentricity\", y=\"Inclination (degrees)\", data=sats, ax=axs[2])\n",
        "\n",
        "plt.tight_layout()"
      ],
      "execution_count": 0,
      "outputs": [
        {
          "output_type": "display_data",
          "data": {
            "image/png": "[encoded data removed]",
            "text/plain": [
              "<Figure size 1080x360 with 3 Axes>"
            ]
          },
          "metadata": {
            "tags": []
          }
        }
      ]
    },
    {
      "cell_type": "markdown",
      "metadata": {
        "id": "UChx-WTYm3zh",
        "colab_type": "text"
      },
      "source": [
        "The above visualizations show the three features we used, average orbit distance from earth, eccentricity, and inclination, by comparing two at a time where the points represent a satellite. Our unsupervised machine learning clustering will group the satellites, and we want the clusters to be weighted more on average distance than inclination or eccentricity. These graphs will be displayed with the clusters after the data is fitted."
      ]
    },
    {
      "cell_type": "markdown",
      "metadata": {
        "id": "3pZ9bvMJdlY7",
        "colab_type": "text"
      },
      "source": [
        "### 3.3. Model Construction\n",
        "\n",
        "A KMeans and an AgglomerativeClustering estimator were constructed to test different ways of grouping the data to identify the regions. Both estimators were constructed using 5 clusters. Furthermore, the scaled data was used with the clustering algorithms as a comparison."
      ]
    },
    {
      "cell_type": "code",
      "metadata": {
        "id": "NyyLRPeXFuEF",
        "colab_type": "code",
        "outputId": "c7f1a1b7-6c13-4a9e-cec1-00736580e54f",
        "colab": {
          "base_uri": "https://localhost:8080/",
          "height": 203
        }
      },
      "source": [
        "from sklearn.cluster import KMeans\n",
        "from sklearn.cluster import AgglomerativeClustering\n",
        "\n",
        "#cluster the satellites into 5 groups based on distance, inclination, and orbit eccentricity\n",
        "\n",
        "#instantiate the KMeans and AgglomerativeClustering estimators and request five clusters\n",
        "kmeans = KMeans(n_clusters=5)\n",
        "ac = AgglomerativeClustering(n_clusters=5)\n",
        "\n",
        "#fit the data\n",
        "kmeans.fit(features)\n",
        "ac.fit(features)\n",
        "\n",
        "#add assigned cluster labels for each instance to the dataset\n",
        "sats[\"Clusters_KM\"] = kmeans.labels_\n",
        "sats[\"Clusters_AC\"] = ac.labels_\n",
        "\n",
        "sats.head()"
      ],
      "execution_count": 0,
      "outputs": [
        {
          "output_type": "execute_result",
          "data": {
            "text/html": [
              "<div>\n",
              "<style scoped>\n",
              "    .dataframe tbody tr th:only-of-type {\n",
              "        vertical-align: middle;\n",
              "    }\n",
              "\n",
              "    .dataframe tbody tr th {\n",
              "        vertical-align: top;\n",
              "    }\n",
              "\n",
              "    .dataframe thead th {\n",
              "        text-align: right;\n",
              "    }\n",
              "</style>\n",
              "<table border=\"1\" class=\"dataframe\">\n",
              "  <thead>\n",
              "    <tr style=\"text-align: right;\">\n",
              "      <th></th>\n",
              "      <th>Name of Satellite, Alternate Names</th>\n",
              "      <th>Inclination (degrees)</th>\n",
              "      <th>Eccentricity</th>\n",
              "      <th>Perigee (km)</th>\n",
              "      <th>Apogee (km)</th>\n",
              "      <th>Average Distance (km)</th>\n",
              "      <th>Clusters_KM</th>\n",
              "      <th>Clusters_AC</th>\n",
              "    </tr>\n",
              "  </thead>\n",
              "  <tbody>\n",
              "    <tr>\n",
              "      <th>0</th>\n",
              "      <td>3Cat-1</td>\n",
              "      <td>97.40</td>\n",
              "      <td>0.001750</td>\n",
              "      <td>476.0</td>\n",
              "      <td>500.0</td>\n",
              "      <td>488.0</td>\n",
              "      <td>0</td>\n",
              "      <td>1</td>\n",
              "    </tr>\n",
              "    <tr>\n",
              "      <th>1</th>\n",
              "      <td>Aalto-1</td>\n",
              "      <td>97.45</td>\n",
              "      <td>0.001450</td>\n",
              "      <td>497.0</td>\n",
              "      <td>517.0</td>\n",
              "      <td>507.0</td>\n",
              "      <td>0</td>\n",
              "      <td>1</td>\n",
              "    </tr>\n",
              "    <tr>\n",
              "      <th>2</th>\n",
              "      <td>AAUSat-4</td>\n",
              "      <td>98.20</td>\n",
              "      <td>0.017700</td>\n",
              "      <td>442.0</td>\n",
              "      <td>687.0</td>\n",
              "      <td>564.5</td>\n",
              "      <td>0</td>\n",
              "      <td>1</td>\n",
              "    </tr>\n",
              "    <tr>\n",
              "      <th>3</th>\n",
              "      <td>ABS-2 (Koreasat-8, ST-3)</td>\n",
              "      <td>0.08</td>\n",
              "      <td>0.000178</td>\n",
              "      <td>35778.0</td>\n",
              "      <td>35793.0</td>\n",
              "      <td>35785.5</td>\n",
              "      <td>1</td>\n",
              "      <td>4</td>\n",
              "    </tr>\n",
              "    <tr>\n",
              "      <th>4</th>\n",
              "      <td>ABS-2A</td>\n",
              "      <td>0.00</td>\n",
              "      <td>0.000000</td>\n",
              "      <td>35700.0</td>\n",
              "      <td>35700.0</td>\n",
              "      <td>35700.0</td>\n",
              "      <td>1</td>\n",
              "      <td>4</td>\n",
              "    </tr>\n",
              "  </tbody>\n",
              "</table>\n",
              "</div>"
            ],
            "text/plain": [
              "  Name of Satellite, Alternate Names  ...  Clusters_AC\n",
              "0                             3Cat-1  ...            1\n",
              "1                           Aalto-1   ...            1\n",
              "2                           AAUSat-4  ...            1\n",
              "3           ABS-2 (Koreasat-8, ST-3)  ...            4\n",
              "4                             ABS-2A  ...            4\n",
              "\n",
              "[5 rows x 8 columns]"
            ]
          },
          "metadata": {
            "tags": []
          },
          "execution_count": 5
        }
      ]
    },
    {
      "cell_type": "code",
      "metadata": {
        "id": "9B0hQJAU1_A1",
        "colab_type": "code",
        "outputId": "9302df89-6613-4e28-e327-f349a81d0ae1",
        "colab": {
          "base_uri": "https://localhost:8080/",
          "height": 220
        }
      },
      "source": [
        "#cluster the satellites into 5 groups based on distance, inclination, and orbit eccentricity\n",
        "\n",
        "#instantiate the KMeans and AgglomerativeClustering estimators and request five clusters\n",
        "kmeans_scaled = KMeans(n_clusters=5)\n",
        "ac_scaled = AgglomerativeClustering(n_clusters=5)\n",
        "\n",
        "#fit the scaled data\n",
        "kmeans_scaled.fit(features_scaled)\n",
        "ac_scaled.fit(features_scaled)\n",
        "\n",
        "#add assigned cluster labels for each instance to the dataset\n",
        "sats[\"Clusters_KM_Scaled\"] = kmeans_scaled.labels_\n",
        "sats[\"Clusters_AC_Scaled\"] = ac_scaled.labels_\n",
        "\n",
        "sats.head()"
      ],
      "execution_count": 0,
      "outputs": [
        {
          "output_type": "execute_result",
          "data": {
            "text/html": [
              "<div>\n",
              "<style scoped>\n",
              "    .dataframe tbody tr th:only-of-type {\n",
              "        vertical-align: middle;\n",
              "    }\n",
              "\n",
              "    .dataframe tbody tr th {\n",
              "        vertical-align: top;\n",
              "    }\n",
              "\n",
              "    .dataframe thead th {\n",
              "        text-align: right;\n",
              "    }\n",
              "</style>\n",
              "<table border=\"1\" class=\"dataframe\">\n",
              "  <thead>\n",
              "    <tr style=\"text-align: right;\">\n",
              "      <th></th>\n",
              "      <th>Name of Satellite, Alternate Names</th>\n",
              "      <th>Inclination (degrees)</th>\n",
              "      <th>Eccentricity</th>\n",
              "      <th>Perigee (km)</th>\n",
              "      <th>Apogee (km)</th>\n",
              "      <th>Average Distance (km)</th>\n",
              "      <th>Clusters_KM</th>\n",
              "      <th>Clusters_AC</th>\n",
              "      <th>Clusters_KM_Scaled</th>\n",
              "      <th>Clusters_AC_Scaled</th>\n",
              "    </tr>\n",
              "  </thead>\n",
              "  <tbody>\n",
              "    <tr>\n",
              "      <th>0</th>\n",
              "      <td>3Cat-1</td>\n",
              "      <td>97.40</td>\n",
              "      <td>0.001750</td>\n",
              "      <td>476.0</td>\n",
              "      <td>500.0</td>\n",
              "      <td>488.0</td>\n",
              "      <td>0</td>\n",
              "      <td>1</td>\n",
              "      <td>1</td>\n",
              "      <td>3</td>\n",
              "    </tr>\n",
              "    <tr>\n",
              "      <th>1</th>\n",
              "      <td>Aalto-1</td>\n",
              "      <td>97.45</td>\n",
              "      <td>0.001450</td>\n",
              "      <td>497.0</td>\n",
              "      <td>517.0</td>\n",
              "      <td>507.0</td>\n",
              "      <td>0</td>\n",
              "      <td>1</td>\n",
              "      <td>1</td>\n",
              "      <td>3</td>\n",
              "    </tr>\n",
              "    <tr>\n",
              "      <th>2</th>\n",
              "      <td>AAUSat-4</td>\n",
              "      <td>98.20</td>\n",
              "      <td>0.017700</td>\n",
              "      <td>442.0</td>\n",
              "      <td>687.0</td>\n",
              "      <td>564.5</td>\n",
              "      <td>0</td>\n",
              "      <td>1</td>\n",
              "      <td>1</td>\n",
              "      <td>3</td>\n",
              "    </tr>\n",
              "    <tr>\n",
              "      <th>3</th>\n",
              "      <td>ABS-2 (Koreasat-8, ST-3)</td>\n",
              "      <td>0.08</td>\n",
              "      <td>0.000178</td>\n",
              "      <td>35778.0</td>\n",
              "      <td>35793.0</td>\n",
              "      <td>35785.5</td>\n",
              "      <td>1</td>\n",
              "      <td>4</td>\n",
              "      <td>2</td>\n",
              "      <td>2</td>\n",
              "    </tr>\n",
              "    <tr>\n",
              "      <th>4</th>\n",
              "      <td>ABS-2A</td>\n",
              "      <td>0.00</td>\n",
              "      <td>0.000000</td>\n",
              "      <td>35700.0</td>\n",
              "      <td>35700.0</td>\n",
              "      <td>35700.0</td>\n",
              "      <td>1</td>\n",
              "      <td>4</td>\n",
              "      <td>2</td>\n",
              "      <td>2</td>\n",
              "    </tr>\n",
              "  </tbody>\n",
              "</table>\n",
              "</div>"
            ],
            "text/plain": [
              "  Name of Satellite, Alternate Names  ...  Clusters_AC_Scaled\n",
              "0                             3Cat-1  ...                   3\n",
              "1                           Aalto-1   ...                   3\n",
              "2                           AAUSat-4  ...                   3\n",
              "3           ABS-2 (Koreasat-8, ST-3)  ...                   2\n",
              "4                             ABS-2A  ...                   2\n",
              "\n",
              "[5 rows x 10 columns]"
            ]
          },
          "metadata": {
            "tags": []
          },
          "execution_count": 6
        }
      ]
    },
    {
      "cell_type": "markdown",
      "metadata": {
        "id": "hvVdVIsrdlY9",
        "colab_type": "text"
      },
      "source": [
        "### 3.4. Model Evaluation\n",
        "\n",
        "The kmeans and agglomerative clustering were compared by looking at the visualizations of the clusters. Similarly, the scaled versus non-scaled data clusters were also compared by looking at the visualizations of the clusters."
      ]
    },
    {
      "cell_type": "code",
      "metadata": {
        "id": "-UPirCD0Ribl",
        "colab_type": "code",
        "outputId": "1d062d21-036a-4697-f50c-36bf4a7de842",
        "colab": {
          "base_uri": "https://localhost:8080/",
          "height": 585
        }
      },
      "source": [
        "#Scatterplots after kmeans clustering\n",
        "fig, axs = plt.subplots(ncols=3, nrows=2, figsize=(17, 8))\n",
        "\n",
        "ax1 = sns.scatterplot(x=\"Average Distance (km)\", y=\"Inclination (degrees)\", hue=\"Clusters_KM\",\n",
        "                palette=[\"#9b59b6\", \"#3498db\", \"#e74c3c\", \"#34495e\", \"#2ecc71\"], data=sats, ax=axs[0][0])\n",
        "ax2 = sns.scatterplot(x=\"Average Distance (km)\", y=\"Inclination (degrees)\", hue=\"Clusters_KM_Scaled\",\n",
        "                palette=[\"#9b59b6\", \"#3498db\", \"#e74c3c\", \"#34495e\", \"#2ecc71\"], data=sats, ax=axs[1][0])\n",
        "\n",
        "ax3 = sns.scatterplot(x=\"Average Distance (km)\", y=\"Eccentricity\", hue=\"Clusters_KM\",\n",
        "                palette=[\"#9b59b6\", \"#3498db\", \"#e74c3c\", \"#34495e\", \"#2ecc71\"], data=sats, ax=axs[0][1])\n",
        "ax4 = sns.scatterplot(x=\"Average Distance (km)\", y=\"Eccentricity\", hue=\"Clusters_KM_Scaled\",\n",
        "                palette=[\"#9b59b6\", \"#3498db\", \"#e74c3c\", \"#34495e\", \"#2ecc71\"], data=sats, ax=axs[1][1])\n",
        "\n",
        "ax5 = sns.scatterplot(x=\"Eccentricity\", y=\"Inclination (degrees)\", hue=\"Clusters_KM\",\n",
        "                palette=[\"#9b59b6\", \"#3498db\", \"#e74c3c\", \"#34495e\", \"#2ecc71\"], data=sats, ax=axs[0][2])\n",
        "ax6 = sns.scatterplot(x=\"Eccentricity\", y=\"Inclination (degrees)\", hue=\"Clusters_KM_Scaled\",\n",
        "                palette=[\"#9b59b6\", \"#3498db\", \"#e74c3c\", \"#34495e\", \"#2ecc71\"], data=sats, ax=axs[1][2])\n",
        "\n",
        "plt.tight_layout()"
      ],
      "execution_count": 0,
      "outputs": [
        {
          "output_type": "display_data",
          "data": {
            "image/png": "[encoded data removed]",
            "text/plain": [
              "<Figure size 1224x576 with 6 Axes>"
            ]
          },
          "metadata": {
            "tags": []
          }
        }
      ]
    },
    {
      "cell_type": "markdown",
      "metadata": {
        "id": "Hb0-K9typp3F",
        "colab_type": "text"
      },
      "source": [
        "Above are the scatterplots with the kmeans clustering and scaled kmeans clustering. The scaled kmeans clustering appears to put less emphasis on average distance, which is more important than the other two features for our predictions, so scaling the data performs worse."
      ]
    },
    {
      "cell_type": "code",
      "metadata": {
        "id": "TBiHbfcrvgHT",
        "colab_type": "code",
        "outputId": "1e0050d5-0ffb-431c-ffec-73b7e3d4dbf4",
        "colab": {
          "base_uri": "https://localhost:8080/",
          "height": 585
        }
      },
      "source": [
        "#Scatterplots after agglomerative clustering\n",
        "fig, axs = plt.subplots(ncols=3, nrows=2, figsize=(17, 8))\n",
        "\n",
        "ax1 = sns.scatterplot(x=\"Average Distance (km)\", y=\"Inclination (degrees)\", hue=\"Clusters_AC\",\n",
        "                palette=[\"#9b59b6\", \"#3498db\", \"#e74c3c\", \"#34495e\", \"#2ecc71\"], data=sats, ax=axs[0][0])\n",
        "ax2 = sns.scatterplot(x=\"Average Distance (km)\", y=\"Inclination (degrees)\", hue=\"Clusters_AC_Scaled\",\n",
        "                palette=[\"#9b59b6\", \"#3498db\", \"#e74c3c\", \"#34495e\", \"#2ecc71\"], data=sats, ax=axs[1][0])\n",
        "\n",
        "ax3 = sns.scatterplot(x=\"Average Distance (km)\", y=\"Eccentricity\", hue=\"Clusters_AC\",\n",
        "                palette=[\"#9b59b6\", \"#3498db\", \"#e74c3c\", \"#34495e\", \"#2ecc71\"], data=sats, ax=axs[0][1])\n",
        "ax4 = sns.scatterplot(x=\"Average Distance (km)\", y=\"Eccentricity\", hue=\"Clusters_AC_Scaled\",\n",
        "                palette=[\"#9b59b6\", \"#3498db\", \"#e74c3c\", \"#34495e\", \"#2ecc71\"], data=sats, ax=axs[1][1])\n",
        "\n",
        "ax5 = sns.scatterplot(x=\"Eccentricity\", y=\"Inclination (degrees)\", hue=\"Clusters_AC\",\n",
        "                palette=[\"#9b59b6\", \"#3498db\", \"#e74c3c\", \"#34495e\", \"#2ecc71\"], data=sats, ax=axs[0][2])\n",
        "ax6 = sns.scatterplot(x=\"Eccentricity\", y=\"Inclination (degrees)\", hue=\"Clusters_AC_Scaled\",\n",
        "                palette=[\"#9b59b6\", \"#3498db\", \"#e74c3c\", \"#34495e\", \"#2ecc71\"], data=sats, ax=axs[1][2])\n",
        "\n",
        "plt.tight_layout()"
      ],
      "execution_count": 0,
      "outputs": [
        {
          "output_type": "display_data",
          "data": {
            "image/png": "[encoded data removed]",
            "text/plain": [
              "<Figure size 1224x576 with 6 Axes>"
            ]
          },
          "metadata": {
            "tags": []
          }
        }
      ]
    },
    {
      "cell_type": "markdown",
      "metadata": {
        "id": "5io8-yNHt1gF",
        "colab_type": "text"
      },
      "source": [
        "Above are the scatterplots with the agglomerative clustering and scaled agglomerative clustering. As shown, the results of the agglomerative clustering are very similar to kmeans clustering, with the scaled data performing worse again. Because the agglomerative clustering is so similar to kmeans, we chose to just continue with the kmeans clusters. The number of satellites in each cluster was then counted."
      ]
    },
    {
      "cell_type": "code",
      "metadata": {
        "id": "stDDjUDl8p-n",
        "colab_type": "code",
        "outputId": "0b20824b-cd76-46c0-f138-0ba081d40ff3",
        "colab": {
          "base_uri": "https://localhost:8080/",
          "height": 140
        }
      },
      "source": [
        "#see which groups are most crowded\n",
        "counted = sats.groupby(by=\"Clusters_KM\")[\"Name of Satellite, Alternate Names\"].count()\n",
        "counted"
      ],
      "execution_count": 0,
      "outputs": [
        {
          "output_type": "execute_result",
          "data": {
            "text/plain": [
              "Clusters_KM\n",
              "0    1360\n",
              "1     563\n",
              "2       7\n",
              "3     128\n",
              "4       4\n",
              "Name: Name of Satellite, Alternate Names, dtype: int64"
            ]
          },
          "metadata": {
            "tags": []
          },
          "execution_count": 9
        }
      ]
    },
    {
      "cell_type": "markdown",
      "metadata": {
        "id": "V-jm-f1Z6lf8",
        "colab_type": "text"
      },
      "source": [
        "With the number of satellites in each cluster known, we needed to take into account the area that each satellite takes up to provide a ranking of how crowded that cluster was. Additional calculations were done to find the approximate surface area of the cluster and allotted area for each satellite."
      ]
    },
    {
      "cell_type": "code",
      "metadata": {
        "id": "_Xns3dPitZ9N",
        "colab_type": "code",
        "outputId": "97ea4c24-bbab-43ae-edb6-58fb511f9e84",
        "colab": {
          "base_uri": "https://localhost:8080/",
          "height": 233
        }
      },
      "source": [
        "avg_dist = sats.groupby(by=\"Clusters_KM\")[\"Average Distance (km)\"].mean()\n",
        "min_dist = sats.groupby(by=\"Clusters_KM\")[\"Average Distance (km)\"].min()\n",
        "max_dist = sats.groupby(by=\"Clusters_KM\")[\"Average Distance (km)\"].max()\n",
        "\n",
        "stats = {'Number of Satellites in Cluster' : counted, 'Average Orbit Radius' : avg_dist, 'Minimum Orbit Radius' : min_dist, 'Maximum Orbit Radius' : max_dist}\n",
        "\n",
        "df_clustered = pd.DataFrame(stats)\n",
        "df_clustered"
      ],
      "execution_count": 0,
      "outputs": [
        {
          "output_type": "execute_result",
          "data": {
            "text/html": [
              "<div>\n",
              "<style scoped>\n",
              "    .dataframe tbody tr th:only-of-type {\n",
              "        vertical-align: middle;\n",
              "    }\n",
              "\n",
              "    .dataframe tbody tr th {\n",
              "        vertical-align: top;\n",
              "    }\n",
              "\n",
              "    .dataframe thead th {\n",
              "        text-align: right;\n",
              "    }\n",
              "</style>\n",
              "<table border=\"1\" class=\"dataframe\">\n",
              "  <thead>\n",
              "    <tr style=\"text-align: right;\">\n",
              "      <th></th>\n",
              "      <th>Number of Satellites in Cluster</th>\n",
              "      <th>Average Orbit Radius</th>\n",
              "      <th>Minimum Orbit Radius</th>\n",
              "      <th>Maximum Orbit Radius</th>\n",
              "    </tr>\n",
              "    <tr>\n",
              "      <th>Clusters_KM</th>\n",
              "      <th></th>\n",
              "      <th></th>\n",
              "      <th></th>\n",
              "      <th></th>\n",
              "    </tr>\n",
              "  </thead>\n",
              "  <tbody>\n",
              "    <tr>\n",
              "      <th>0</th>\n",
              "      <td>1360</td>\n",
              "      <td>755.806618</td>\n",
              "      <td>300.0</td>\n",
              "      <td>8934.5</td>\n",
              "    </tr>\n",
              "    <tr>\n",
              "      <th>1</th>\n",
              "      <td>563</td>\n",
              "      <td>35824.673179</td>\n",
              "      <td>29948.5</td>\n",
              "      <td>44000.0</td>\n",
              "    </tr>\n",
              "    <tr>\n",
              "      <th>2</th>\n",
              "      <td>7</td>\n",
              "      <td>69596.142857</td>\n",
              "      <td>60553.0</td>\n",
              "      <td>81562.5</td>\n",
              "    </tr>\n",
              "    <tr>\n",
              "      <th>3</th>\n",
              "      <td>128</td>\n",
              "      <td>20720.285156</td>\n",
              "      <td>15562.5</td>\n",
              "      <td>26632.5</td>\n",
              "    </tr>\n",
              "    <tr>\n",
              "      <th>4</th>\n",
              "      <td>4</td>\n",
              "      <td>146453.375000</td>\n",
              "      <td>120501.0</td>\n",
              "      <td>165500.0</td>\n",
              "    </tr>\n",
              "  </tbody>\n",
              "</table>\n",
              "</div>"
            ],
            "text/plain": [
              "             Number of Satellites in Cluster  ...  Maximum Orbit Radius\n",
              "Clusters_KM                                   ...                      \n",
              "0                                       1360  ...                8934.5\n",
              "1                                        563  ...               44000.0\n",
              "2                                          7  ...               81562.5\n",
              "3                                        128  ...               26632.5\n",
              "4                                          4  ...              165500.0\n",
              "\n",
              "[5 rows x 4 columns]"
            ]
          },
          "metadata": {
            "tags": []
          },
          "execution_count": 10
        }
      ]
    },
    {
      "cell_type": "code",
      "metadata": {
        "id": "EuB669aYbsXx",
        "colab_type": "code",
        "outputId": "b8133d8c-f6ae-4c54-c8de-9ec7f44a4a38",
        "colab": {
          "base_uri": "https://localhost:8080/",
          "height": 251
        }
      },
      "source": [
        "import math\n",
        "min_inc = sats.groupby(by=\"Clusters_KM\")[\"Inclination (degrees)\"].min()\n",
        "max_inc = sats.groupby(by=\"Clusters_KM\")[\"Inclination (degrees)\"].max()\n",
        "\n",
        "df_clustered[\"Range\"] = df_clustered['Maximum Orbit Radius'] - df_clustered[\"Minimum Orbit Radius\"]\n",
        "df_clustered[\"Angular Range\"] = max_inc - min_inc\n",
        "df_clustered[\"Surface Area\"] = ((max_inc - min_inc)/180)*4*math.pi*df_clustered[\"Average Orbit Radius\"]**2\n",
        "\n",
        "df_clustered[\"Radial km per Satellite\"] = df_clustered[\"Range\"]/df_clustered[\"Number of Satellites in Cluster\"]\n",
        "df_clustered[\"Sq. km per Satellite\"] = df_clustered[\"Surface Area\"]/df_clustered[\"Number of Satellites in Cluster\"]\n",
        "\n",
        "df_clustered"
      ],
      "execution_count": 0,
      "outputs": [
        {
          "output_type": "execute_result",
          "data": {
            "text/html": [
              "<div>\n",
              "<style scoped>\n",
              "    .dataframe tbody tr th:only-of-type {\n",
              "        vertical-align: middle;\n",
              "    }\n",
              "\n",
              "    .dataframe tbody tr th {\n",
              "        vertical-align: top;\n",
              "    }\n",
              "\n",
              "    .dataframe thead th {\n",
              "        text-align: right;\n",
              "    }\n",
              "</style>\n",
              "<table border=\"1\" class=\"dataframe\">\n",
              "  <thead>\n",
              "    <tr style=\"text-align: right;\">\n",
              "      <th></th>\n",
              "      <th>Number of Satellites in Cluster</th>\n",
              "      <th>Average Orbit Radius</th>\n",
              "      <th>Minimum Orbit Radius</th>\n",
              "      <th>Maximum Orbit Radius</th>\n",
              "      <th>Range</th>\n",
              "      <th>Angular Range</th>\n",
              "      <th>Surface Area</th>\n",
              "      <th>Radial km per Satellite</th>\n",
              "      <th>Sq. km per Satellite</th>\n",
              "    </tr>\n",
              "    <tr>\n",
              "      <th>Clusters_KM</th>\n",
              "      <th></th>\n",
              "      <th></th>\n",
              "      <th></th>\n",
              "      <th></th>\n",
              "      <th></th>\n",
              "      <th></th>\n",
              "      <th></th>\n",
              "      <th></th>\n",
              "      <th></th>\n",
              "    </tr>\n",
              "  </thead>\n",
              "  <tbody>\n",
              "    <tr>\n",
              "      <th>0</th>\n",
              "      <td>1360</td>\n",
              "      <td>755.806618</td>\n",
              "      <td>300.0</td>\n",
              "      <td>8934.5</td>\n",
              "      <td>8634.5</td>\n",
              "      <td>143.40</td>\n",
              "      <td>5.718839e+06</td>\n",
              "      <td>6.348897</td>\n",
              "      <td>4.205029e+03</td>\n",
              "    </tr>\n",
              "    <tr>\n",
              "      <th>1</th>\n",
              "      <td>563</td>\n",
              "      <td>35824.673179</td>\n",
              "      <td>29948.5</td>\n",
              "      <td>44000.0</td>\n",
              "      <td>14051.5</td>\n",
              "      <td>96.40</td>\n",
              "      <td>8.637317e+09</td>\n",
              "      <td>24.958259</td>\n",
              "      <td>1.534159e+07</td>\n",
              "    </tr>\n",
              "    <tr>\n",
              "      <th>2</th>\n",
              "      <td>7</td>\n",
              "      <td>69596.142857</td>\n",
              "      <td>60553.0</td>\n",
              "      <td>81562.5</td>\n",
              "      <td>21009.5</td>\n",
              "      <td>104.48</td>\n",
              "      <td>3.532977e+10</td>\n",
              "      <td>3001.357143</td>\n",
              "      <td>5.047111e+09</td>\n",
              "    </tr>\n",
              "    <tr>\n",
              "      <th>3</th>\n",
              "      <td>128</td>\n",
              "      <td>20720.285156</td>\n",
              "      <td>15562.5</td>\n",
              "      <td>26632.5</td>\n",
              "      <td>11070.0</td>\n",
              "      <td>62.90</td>\n",
              "      <td>1.885296e+09</td>\n",
              "      <td>86.484375</td>\n",
              "      <td>1.472887e+07</td>\n",
              "    </tr>\n",
              "    <tr>\n",
              "      <th>4</th>\n",
              "      <td>4</td>\n",
              "      <td>146453.375000</td>\n",
              "      <td>120501.0</td>\n",
              "      <td>165500.0</td>\n",
              "      <td>44999.0</td>\n",
              "      <td>42.07</td>\n",
              "      <td>6.299537e+10</td>\n",
              "      <td>11249.750000</td>\n",
              "      <td>1.574884e+10</td>\n",
              "    </tr>\n",
              "  </tbody>\n",
              "</table>\n",
              "</div>"
            ],
            "text/plain": [
              "             Number of Satellites in Cluster  ...  Sq. km per Satellite\n",
              "Clusters_KM                                   ...                      \n",
              "0                                       1360  ...          4.205029e+03\n",
              "1                                        563  ...          1.534159e+07\n",
              "2                                          7  ...          5.047111e+09\n",
              "3                                        128  ...          1.472887e+07\n",
              "4                                          4  ...          1.574884e+10\n",
              "\n",
              "[5 rows x 9 columns]"
            ]
          },
          "metadata": {
            "tags": []
          },
          "execution_count": 11
        }
      ]
    },
    {
      "cell_type": "code",
      "metadata": {
        "id": "qNHMLPPjdwZf",
        "colab_type": "code",
        "outputId": "9a1d4afc-25cf-4059-ab44-a248d16e3d39",
        "colab": {
          "base_uri": "https://localhost:8080/",
          "height": 251
        }
      },
      "source": [
        "# order clusters from most crowded (1) to least crowded (5)\n",
        "df_clustered.sort_values(by=\"Sq. km per Satellite\", inplace=True)\n",
        "df_clustered[\"Crowded Ranking\"] = [1,2,3,4,5]\n",
        "df_clustered.sort_index(inplace=True)\n",
        "df_clustered"
      ],
      "execution_count": 0,
      "outputs": [
        {
          "output_type": "execute_result",
          "data": {
            "text/html": [
              "<div>\n",
              "<style scoped>\n",
              "    .dataframe tbody tr th:only-of-type {\n",
              "        vertical-align: middle;\n",
              "    }\n",
              "\n",
              "    .dataframe tbody tr th {\n",
              "        vertical-align: top;\n",
              "    }\n",
              "\n",
              "    .dataframe thead th {\n",
              "        text-align: right;\n",
              "    }\n",
              "</style>\n",
              "<table border=\"1\" class=\"dataframe\">\n",
              "  <thead>\n",
              "    <tr style=\"text-align: right;\">\n",
              "      <th></th>\n",
              "      <th>Number of Satellites in Cluster</th>\n",
              "      <th>Average Orbit Radius</th>\n",
              "      <th>Minimum Orbit Radius</th>\n",
              "      <th>Maximum Orbit Radius</th>\n",
              "      <th>Range</th>\n",
              "      <th>Angular Range</th>\n",
              "      <th>Surface Area</th>\n",
              "      <th>Radial km per Satellite</th>\n",
              "      <th>Sq. km per Satellite</th>\n",
              "      <th>Crowded Ranking</th>\n",
              "    </tr>\n",
              "    <tr>\n",
              "      <th>Clusters_KM</th>\n",
              "      <th></th>\n",
              "      <th></th>\n",
              "      <th></th>\n",
              "      <th></th>\n",
              "      <th></th>\n",
              "      <th></th>\n",
              "      <th></th>\n",
              "      <th></th>\n",
              "      <th></th>\n",
              "      <th></th>\n",
              "    </tr>\n",
              "  </thead>\n",
              "  <tbody>\n",
              "    <tr>\n",
              "      <th>0</th>\n",
              "      <td>1360</td>\n",
              "      <td>755.806618</td>\n",
              "      <td>300.0</td>\n",
              "      <td>8934.5</td>\n",
              "      <td>8634.5</td>\n",
              "      <td>143.40</td>\n",
              "      <td>5.718839e+06</td>\n",
              "      <td>6.348897</td>\n",
              "      <td>4.205029e+03</td>\n",
              "      <td>1</td>\n",
              "    </tr>\n",
              "    <tr>\n",
              "      <th>1</th>\n",
              "      <td>563</td>\n",
              "      <td>35824.673179</td>\n",
              "      <td>29948.5</td>\n",
              "      <td>44000.0</td>\n",
              "      <td>14051.5</td>\n",
              "      <td>96.40</td>\n",
              "      <td>8.637317e+09</td>\n",
              "      <td>24.958259</td>\n",
              "      <td>1.534159e+07</td>\n",
              "      <td>3</td>\n",
              "    </tr>\n",
              "    <tr>\n",
              "      <th>2</th>\n",
              "      <td>7</td>\n",
              "      <td>69596.142857</td>\n",
              "      <td>60553.0</td>\n",
              "      <td>81562.5</td>\n",
              "      <td>21009.5</td>\n",
              "      <td>104.48</td>\n",
              "      <td>3.532977e+10</td>\n",
              "      <td>3001.357143</td>\n",
              "      <td>5.047111e+09</td>\n",
              "      <td>4</td>\n",
              "    </tr>\n",
              "    <tr>\n",
              "      <th>3</th>\n",
              "      <td>128</td>\n",
              "      <td>20720.285156</td>\n",
              "      <td>15562.5</td>\n",
              "      <td>26632.5</td>\n",
              "      <td>11070.0</td>\n",
              "      <td>62.90</td>\n",
              "      <td>1.885296e+09</td>\n",
              "      <td>86.484375</td>\n",
              "      <td>1.472887e+07</td>\n",
              "      <td>2</td>\n",
              "    </tr>\n",
              "    <tr>\n",
              "      <th>4</th>\n",
              "      <td>4</td>\n",
              "      <td>146453.375000</td>\n",
              "      <td>120501.0</td>\n",
              "      <td>165500.0</td>\n",
              "      <td>44999.0</td>\n",
              "      <td>42.07</td>\n",
              "      <td>6.299537e+10</td>\n",
              "      <td>11249.750000</td>\n",
              "      <td>1.574884e+10</td>\n",
              "      <td>5</td>\n",
              "    </tr>\n",
              "  </tbody>\n",
              "</table>\n",
              "</div>"
            ],
            "text/plain": [
              "             Number of Satellites in Cluster  ...  Crowded Ranking\n",
              "Clusters_KM                                   ...                 \n",
              "0                                       1360  ...                1\n",
              "1                                        563  ...                3\n",
              "2                                          7  ...                4\n",
              "3                                        128  ...                2\n",
              "4                                          4  ...                5\n",
              "\n",
              "[5 rows x 10 columns]"
            ]
          },
          "metadata": {
            "tags": []
          },
          "execution_count": 12
        }
      ]
    },
    {
      "cell_type": "markdown",
      "metadata": {
        "id": "R8yq5W2xyamx",
        "colab_type": "text"
      },
      "source": [
        "The \"Crowded Ranking\" was added to make it easier to see which clusters corresponded to the busiest ones, since the clusters on their own were not in the direct ordering of busyness."
      ]
    },
    {
      "cell_type": "code",
      "metadata": {
        "id": "V8jqSjQyU2bI",
        "colab_type": "code",
        "outputId": "3b8f1e4e-8c82-4835-a043-d7821e80067c",
        "colab": {
          "base_uri": "https://localhost:8080/",
          "height": 295
        }
      },
      "source": [
        "import numpy as np\n",
        "plt.bar(df_clustered.index, np.log10(df_clustered[\"Sq. km per Satellite\"]))\n",
        "plt.title(\"Sq. km per satellite for each cluster\")\n",
        "plt.xlabel(\"Cluster\")\n",
        "plt.ylabel(\"Sq. km per Satellite (log scale)\")\n",
        "plt.show()"
      ],
      "execution_count": 0,
      "outputs": [
        {
          "output_type": "display_data",
          "data": {
            "image/png": "[encoded data removed]",
            "text/plain": [
              "<Figure size 432x288 with 1 Axes>"
            ]
          },
          "metadata": {
            "tags": []
          }
        }
      ]
    },
    {
      "cell_type": "markdown",
      "metadata": {
        "id": "uJ-e9DyfzJDZ",
        "colab_type": "text"
      },
      "source": [
        "The crowded ranking shows that satellites are typically more crowded the closer to earth they are. This is also shown in the bar chart above where the fewer square kilometers per satellite means that cluster is more crowded."
      ]
    },
    {
      "cell_type": "code",
      "metadata": {
        "colab_type": "code",
        "id": "76mpN_pWsk7L",
        "outputId": "486f696d-e7ae-47a0-b57b-d3f11e20f0e2",
        "colab": {
          "base_uri": "https://localhost:8080/",
          "height": 203
        }
      },
      "source": [
        "def cluster_to_rank(cluster):\n",
        "    for item in df_clustered.index:\n",
        "        if cluster==item:\n",
        "            return df_clustered[\"Crowded Ranking\"][item]\n",
        " \n",
        "\n",
        "sats[\"Ranking\"] = sats[\"Clusters_KM\"].map(cluster_to_rank)\n",
        "cleaned_sats = sats.drop(labels = [\"Clusters_KM\", \"Clusters_AC\", \"Clusters_KM_Scaled\", \"Clusters_AC_Scaled\"], axis=1)\n",
        "cleaned_sats.head()"
      ],
      "execution_count": 0,
      "outputs": [
        {
          "output_type": "execute_result",
          "data": {
            "text/html": [
              "<div>\n",
              "<style scoped>\n",
              "    .dataframe tbody tr th:only-of-type {\n",
              "        vertical-align: middle;\n",
              "    }\n",
              "\n",
              "    .dataframe tbody tr th {\n",
              "        vertical-align: top;\n",
              "    }\n",
              "\n",
              "    .dataframe thead th {\n",
              "        text-align: right;\n",
              "    }\n",
              "</style>\n",
              "<table border=\"1\" class=\"dataframe\">\n",
              "  <thead>\n",
              "    <tr style=\"text-align: right;\">\n",
              "      <th></th>\n",
              "      <th>Name of Satellite, Alternate Names</th>\n",
              "      <th>Inclination (degrees)</th>\n",
              "      <th>Eccentricity</th>\n",
              "      <th>Perigee (km)</th>\n",
              "      <th>Apogee (km)</th>\n",
              "      <th>Average Distance (km)</th>\n",
              "      <th>Ranking</th>\n",
              "    </tr>\n",
              "  </thead>\n",
              "  <tbody>\n",
              "    <tr>\n",
              "      <th>0</th>\n",
              "      <td>3Cat-1</td>\n",
              "      <td>97.40</td>\n",
              "      <td>0.001750</td>\n",
              "      <td>476.0</td>\n",
              "      <td>500.0</td>\n",
              "      <td>488.0</td>\n",
              "      <td>1</td>\n",
              "    </tr>\n",
              "    <tr>\n",
              "      <th>1</th>\n",
              "      <td>Aalto-1</td>\n",
              "      <td>97.45</td>\n",
              "      <td>0.001450</td>\n",
              "      <td>497.0</td>\n",
              "      <td>517.0</td>\n",
              "      <td>507.0</td>\n",
              "      <td>1</td>\n",
              "    </tr>\n",
              "    <tr>\n",
              "      <th>2</th>\n",
              "      <td>AAUSat-4</td>\n",
              "      <td>98.20</td>\n",
              "      <td>0.017700</td>\n",
              "      <td>442.0</td>\n",
              "      <td>687.0</td>\n",
              "      <td>564.5</td>\n",
              "      <td>1</td>\n",
              "    </tr>\n",
              "    <tr>\n",
              "      <th>3</th>\n",
              "      <td>ABS-2 (Koreasat-8, ST-3)</td>\n",
              "      <td>0.08</td>\n",
              "      <td>0.000178</td>\n",
              "      <td>35778.0</td>\n",
              "      <td>35793.0</td>\n",
              "      <td>35785.5</td>\n",
              "      <td>3</td>\n",
              "    </tr>\n",
              "    <tr>\n",
              "      <th>4</th>\n",
              "      <td>ABS-2A</td>\n",
              "      <td>0.00</td>\n",
              "      <td>0.000000</td>\n",
              "      <td>35700.0</td>\n",
              "      <td>35700.0</td>\n",
              "      <td>35700.0</td>\n",
              "      <td>3</td>\n",
              "    </tr>\n",
              "  </tbody>\n",
              "</table>\n",
              "</div>"
            ],
            "text/plain": [
              "  Name of Satellite, Alternate Names  ...  Ranking\n",
              "0                             3Cat-1  ...        1\n",
              "1                           Aalto-1   ...        1\n",
              "2                           AAUSat-4  ...        1\n",
              "3           ABS-2 (Koreasat-8, ST-3)  ...        3\n",
              "4                             ABS-2A  ...        3\n",
              "\n",
              "[5 rows x 7 columns]"
            ]
          },
          "metadata": {
            "tags": []
          },
          "execution_count": 14
        }
      ]
    },
    {
      "cell_type": "markdown",
      "metadata": {
        "id": "MSMRhJHRdlY_",
        "colab_type": "text"
      },
      "source": [
        "### 3.5. Model Optimization\n"
      ]
    },
    {
      "cell_type": "markdown",
      "metadata": {
        "id": "nOS3LhC3zZpI",
        "colab_type": "text"
      },
      "source": [
        "We didn't really have model optimization because it is unsupervised machine learning, so we don't have the target variable that we can check for performance. The only value we could have changed was the number of clusters, but increasing that would have made the closer clusters extremely small and specific while leaving the further out clusters massive."
      ]
    },
    {
      "cell_type": "markdown",
      "metadata": {
        "id": "HKId9oRSdlZB",
        "colab_type": "text"
      },
      "source": [
        "### 3.6. Model Testing\n",
        "\n",
        "To test the model, we can provide the KMeans Predictor with values for a new satellite that is planned and determine which cluster it is in and thus what likelihood of collision rank it should receive. As defined above, the lower the number for the ranking, the more likely a collision would happen for a newly launched satellite into that cluster. This is demonstrated below for two satellites, one with average distance of 10000 km from earth, 45 degree inclination, and .01 eccentricity, and another with average distance of 110000 km from earth, 30 degree inclination, and .7 eccentricity. Comparing the predictions to the visualization, the predictions are working well."
      ]
    },
    {
      "cell_type": "code",
      "metadata": {
        "id": "IDLsdJDCwgru",
        "colab_type": "code",
        "outputId": "a9eb6491-ae23-4c89-896d-82af7946e51b",
        "colab": {
          "base_uri": "https://localhost:8080/",
          "height": 52
        }
      },
      "source": [
        "# predicting the cluster\n",
        "print(\"The cluster is\", kmeans.predict(pd.DataFrame([(10000, 45, .01)]))[0],\n",
        "      \"and the likelihood of crashing rank is\", cluster_to_rank(kmeans.predict(pd.DataFrame([(10000, 45, .01)]))))\n",
        "print(\"The cluster is\", kmeans.predict(pd.DataFrame([(110000, 30, .7)]))[0],\n",
        "      \"and the likelihood of crashing rank is\", cluster_to_rank(kmeans.predict(pd.DataFrame([(110000, 30, .7)]))))"
      ],
      "execution_count": 0,
      "outputs": [
        {
          "output_type": "stream",
          "text": [
            "The cluster is 0 and the likelihood of crashing rank is 1\n",
            "The cluster is 4 and the likelihood of crashing rank is 5\n"
          ],
          "name": "stdout"
        }
      ]
    },
    {
      "cell_type": "markdown",
      "metadata": {
        "id": "FCsi3WzYdlZD",
        "colab_type": "text"
      },
      "source": [
        "<a id=\"4\"></a>\n",
        "<hr style=\"height:2px; border:none; color:black; background-color:black;\">"
      ]
    },
    {
      "cell_type": "markdown",
      "metadata": {
        "id": "iTP6uPQ_dlZG",
        "colab_type": "text"
      },
      "source": [
        "## 4. DISCUSSION\n",
        "\n",
        "After cleaning the data and extracting the features, the features were visualized on a scatter plot. The unsupervised machine learning was then conducted with k-Means and agglomerative clustering for comparison, both with the features and scaled features. The clusters were visualized on the scatterplots, which allowed us to compare the results and choose the clustering that fit best with what we wanted for our predictions. The clustering that worked the best had to weigh average distance from Earth more than the other features, and both k-Means and agglomerative did that with the unscaled data. These produced extremely similar clusters so we continued with just the k-Means algorithim. With the model selected and fitted, we could then assign a ranking to each cluster about the crowdedness of the cluster.\n",
        "\n",
        "Finally, we could predict a new satellite launch's likelihood of crashing into other satellites with the k-Means predictor. The ranking assigned is arbitrary and relative to the other rankings, we are only able to say a satellite has a higher chance of hitting another satellite or debris in one cluster than another, rather than the actual probability. Realistically, the actual probability of collisions between tracked satellites is extremely low, as all launches are carefully planned and orbits are mapped so as to avoid collisions.\n",
        "\n",
        "In the future, this model could be improved with data on the smaller debris and previous collisions, as well as the size and speed of all bodies orbiting the Earth. "
      ]
    },
    {
      "cell_type": "markdown",
      "metadata": {
        "id": "p95ufFuOdlZI",
        "colab_type": "text"
      },
      "source": [
        "<a id=\"5\"></a>\n",
        "<hr style=\"height:2px; border:none; color:black; background-color:black;\">"
      ]
    },
    {
      "cell_type": "markdown",
      "metadata": {
        "id": "ok9pn7LOdlZK",
        "colab_type": "text"
      },
      "source": [
        "### CONTRIBUTIONS\n",
        "\n",
        "Vincent - visualizations, agglomerative clustering, explanations, and organization\n",
        "\n",
        "Tamsin - data cleaning, model construction, and evaluation\n",
        "\n",
        "Ryan - initial data scraping, voice over, and most of the presentation"
      ]
    }
  ]
}